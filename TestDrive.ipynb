{
 "cells": [
  {
   "cell_type": "code",
   "execution_count": 1,
   "id": "47ec965f-43f7-4fc5-bc76-eea4925cc7c3",
   "metadata": {},
   "outputs": [
    {
     "name": "stdout",
     "output_type": "stream",
     "text": [
      "hello, jupyter!\n"
     ]
    }
   ],
   "source": [
    "print(\"hello, jupyter!\")"
   ]
  },
  {
   "cell_type": "code",
   "execution_count": 12,
   "id": "812ba163-1354-4e2c-83e3-47263b3c6d86",
   "metadata": {},
   "outputs": [
    {
     "name": "stdout",
     "output_type": "stream",
     "text": [
      "x is equal to 10\n"
     ]
    }
   ],
   "source": [
    "if x == 10:\n",
    "    print(\"x is equal to 10\")\n",
    "else:\n",
    "    print(\"x is not equal to 10\")"
   ]
  },
  {
   "cell_type": "code",
   "execution_count": 11,
   "id": "9ec3184c-cf8a-42b3-95db-65f894245623",
   "metadata": {},
   "outputs": [
    {
     "name": "stdout",
     "output_type": "stream",
     "text": [
      "Result: 40\n"
     ]
    }
   ],
   "source": [
    "# Performing a mathematical calculation\n",
    "result = 5 * 8\n",
    "print(\"Result:\", result)"
   ]
  },
  {
   "cell_type": "code",
   "execution_count": 10,
   "id": "6e684f37-ef44-4239-9cca-138813cf5b67",
   "metadata": {},
   "outputs": [
    {
     "name": "stdout",
     "output_type": "stream",
     "text": [
      "Result: 13\n"
     ]
    }
   ],
   "source": [
    "# Performing a mathematical calculation\n",
    "result = 5 + 8\n",
    "print(\"Result:\", result)"
   ]
  },
  {
   "cell_type": "code",
   "execution_count": null,
   "id": "2a0fce8f-5e3c-4c8b-bf4a-c0c0b52d6224",
   "metadata": {},
   "outputs": [],
   "source": []
  }
 ],
 "metadata": {
  "kernelspec": {
   "display_name": "Python 3 (ipykernel)",
   "language": "python",
   "name": "python3"
  },
  "language_info": {
   "codemirror_mode": {
    "name": "ipython",
    "version": 3
   },
   "file_extension": ".py",
   "mimetype": "text/x-python",
   "name": "python",
   "nbconvert_exporter": "python",
   "pygments_lexer": "ipython3",
   "version": "3.12.1"
  }
 },
 "nbformat": 4,
 "nbformat_minor": 5
}
